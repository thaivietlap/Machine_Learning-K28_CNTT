{
 "cells": [
  {
   "cell_type": "code",
   "execution_count": 6,
   "id": "0b46ab22-09cc-450b-96d8-07a86ae2657a",
   "metadata": {},
   "outputs": [],
   "source": [
    "%run decisiontree.ipynb"
   ]
  },
  {
   "cell_type": "code",
   "execution_count": 7,
   "id": "b7d6ba37",
   "metadata": {},
   "outputs": [],
   "source": [
    "import numpy as np\n",
    "import pandas as pd\n",
    "from sklearn.tree import DecisionTreeClassifier\n",
    "from sklearn.tree import DecisionTreeRegressor\n",
    "from DecisionTree import DecisionTreeClass"
   ]
  },
  {
   "cell_type": "code",
   "execution_count": 8,
   "id": "01fad103-63c1-43d4-b66f-1719c85f16a6",
   "metadata": {},
   "outputs": [],
   "source": [
    "# hàm lấy các mẫu dữ liệu ngẫu nhiên trong đó các phần tử có thể lặp lại (trùng nhau)\n",
    "def bootstrap(X, y): # X là frame, y là series \n",
    "    n_sample = X.shape[0]\n",
    "    _id = np.random.choice(n_sample, n_sample, replace = True) # dạng mảng\n",
    "    return X.iloc[_id], y.iloc[_id] # phải hiểu tại sao iloc cho cả X và y? \n",
    "    # liên quan đến chỉ số X_train khi dùng train_test_split"
   ]
  },
  {
   "cell_type": "code",
   "execution_count": 9,
   "id": "f0431a38-54f4-442c-acc2-efd8c9fc37df",
   "metadata": {},
   "outputs": [],
   "source": [
    "# lớp RandomForest\n",
    "\n",
    "class RandomForest:\n",
    "    def __init__(self, n_trees = 5, max_depth = 10, min_samples_split = 2, n_features = None):\n",
    "        self.n_trees = n_trees  # Số lượng cây trong rừng\n",
    "        self.max_depth = max_depth  # Độ sâu tối đa của mỗi cây\n",
    "        self.min_samples_split = min_samples_split  # Số lượng mẫu nhỏ nhất để tiếp tục chia nhánh\n",
    "        self.n_features = n_features  # Số lượng đặc trưng ngẫu nhiên để xem xét tại mỗi node (None sẽ lấy tất cả)\n",
    "        self.trees = []  # Danh sách các cây quyết định trong rừng\n",
    "\n",
    "    def fit(self, X, y):  # X là frame, y là series\n",
    "        self.trees = [] # tạo list chứa số cây cho dự đoán\n",
    "        for i in range(self.n_trees):\n",
    "            # với mỗi giá trị i ta tạo một cây quyết định \n",
    "            tree = DecisionTreeClass(min_samples_split = self.min_samples_split, max_depth = self.max_depth, n_features = self.n_features)\n",
    "            X_sample, y_sample = bootstrap(X, y) # tạo mẫu X và y thay đổi qua mỗi lần lặp\n",
    "            tree.fit(X_sample, y_sample) # tạo cây\n",
    "            self.trees.append(tree) # thêm cây vào list cây\n",
    "\n",
    "    def predict(self, X):  # X là frame\n",
    "        # lấy dự đoán từ từng cây\n",
    "        arr_pred = np.array([tree.predict(X) for tree in self.trees])\n",
    "        final_pred = []\n",
    "        for i in range(arr_pred.shape[1]): \n",
    "            sample_pred = arr_pred[:, i] # trả loại mảng\n",
    "            final_pred.append(most_value(pd.Series(sample_pred))) # type: ignore # tham số trong hàm most_value phải ở dạng series\n",
    "        return np.array(final_pred)  # trả về giá trị dự đoán sau khi vote n cây"
   ]
  }
 ],
 "metadata": {
  "kernelspec": {
   "display_name": "env_github",
   "language": "python",
   "name": "python3"
  },
  "language_info": {
   "codemirror_mode": {
    "name": "ipython",
    "version": 3
   },
   "file_extension": ".py",
   "mimetype": "text/x-python",
   "name": "python",
   "nbconvert_exporter": "python",
   "pygments_lexer": "ipython3",
   "version": "3.12.5"
  }
 },
 "nbformat": 4,
 "nbformat_minor": 5
}
