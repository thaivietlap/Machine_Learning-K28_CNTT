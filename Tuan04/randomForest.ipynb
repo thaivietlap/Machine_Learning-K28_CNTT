{
 "cells": [
  {
   "cell_type": "code",
   "execution_count": 5,
   "id": "0b46ab22-09cc-450b-96d8-07a86ae2657a",
   "metadata": {},
   "outputs": [],
   "source": [
    "%run decisiontree.ipynb"
   ]
  },
  {
   "cell_type": "code",
   "execution_count": 6,
   "id": "b7d6ba37",
   "metadata": {},
   "outputs": [],
   "source": [
    "import numpy as np\n",
    "import pandas as pd\n",
    "from sklearn.tree import DecisionTreeClassifier\n",
    "from sklearn.tree import DecisionTreeRegressor\n",
    "from DecisionTree import DecisionTreeClass,most_value"
   ]
  },
  {
   "cell_type": "code",
   "execution_count": 7,
   "id": "01fad103-63c1-43d4-b66f-1719c85f16a6",
   "metadata": {},
   "outputs": [],
   "source": [
    "# Hàm lấy các mẫu dữ liệu ngẫu nhiên trong đó các phần tử có thể lặp lại\n",
    "def bootstrap(X, y):  \n",
    "    n_sample = X.shape[0]\n",
    "    _id = np.random.choice(n_sample, n_sample, replace=True)  \n",
    "    return X.iloc[_id], y.iloc[_id]"
   ]
  },
  {
   "cell_type": "code",
   "execution_count": 8,
   "id": "f0431a38-54f4-442c-acc2-efd8c9fc37df",
   "metadata": {},
   "outputs": [],
   "source": [
    "# Lớp RandomForest\n",
    "\n",
    "class RandomForest:\n",
    "    def __init__(self, n_trees=5, max_depth=10, min_samples_split=2, n_features=None):\n",
    "        self.n_trees = n_trees  \n",
    "        self.max_depth = max_depth  \n",
    "        self.min_samples_split = min_samples_split  \n",
    "        self.n_features = n_features  \n",
    "        self.trees = []  \n",
    "\n",
    "    def fit(self, X, y):  \n",
    "        self.trees = [] \n",
    "        for i in range(self.n_trees):\n",
    "            tree = DecisionTreeClass(min_samples_split=self.min_samples_split, max_depth=self.max_depth, n_features=self.n_features)\n",
    "            X_sample, y_sample = bootstrap(X, y) \n",
    "            tree.fit(X_sample, y_sample)\n",
    "            self.trees.append(tree)\n",
    "\n",
    "    def predict(self, X):  \n",
    "        arr_pred = np.array([tree.predict(X) for tree in self.trees])\n",
    "        final_pred = []\n",
    "        for i in range(arr_pred.shape[1]):  \n",
    "            sample_pred = arr_pred[:, i]\n",
    "            final_pred.append(most_value(pd.Series(sample_pred))) \n",
    "        return np.array(final_pred)"
   ]
  }
 ],
 "metadata": {
  "kernelspec": {
   "display_name": "env_github",
   "language": "python",
   "name": "python3"
  },
  "language_info": {
   "codemirror_mode": {
    "name": "ipython",
    "version": 3
   },
   "file_extension": ".py",
   "mimetype": "text/x-python",
   "name": "python",
   "nbconvert_exporter": "python",
   "pygments_lexer": "ipython3",
   "version": "3.12.5"
  }
 },
 "nbformat": 4,
 "nbformat_minor": 5
}
