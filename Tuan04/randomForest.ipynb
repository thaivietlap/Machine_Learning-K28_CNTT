{
 "cells": [
  {
   "cell_type": "code",
   "execution_count": 1,
   "id": "0b46ab22-09cc-450b-96d8-07a86ae2657a",
   "metadata": {},
   "outputs": [],
   "source": [
    "%run decisionTree.ipynb"
   ]
  },
  {
   "cell_type": "code",
   "execution_count": 2,
   "id": "01fad103-63c1-43d4-b66f-1719c85f16a6",
   "metadata": {},
   "outputs": [],
   "source": [
    "# hàm lấy các mẫu dữ liệu ngẫu nhiên trong đó các phần tử có thể lặp lại (trùng nhau)\n",
    "def bootstrap(X, y):  # X là DataFrame, y là Series\n",
    "    n_sample = X.shape[0]  # số lượng mẫu trong X\n",
    "    _id = np.random.choice(n_sample, n_sample, replace=True)  # chọn ngẫu nhiên với hoàn lại\n",
    "    return X.iloc[_id], y.iloc[_id]  # trả về X và y tương ứng với các chỉ số ngẫu nhiên\n"
   ]
  },
  {
   "cell_type": "code",
   "execution_count": 3,
   "id": "f0431a38-54f4-442c-acc2-efd8c9fc37df",
   "metadata": {},
   "outputs": [],
   "source": [
    "# lớp RandomForest \n",
    "class RandomForest:\n",
    "    def __init__(self, n_trees=5, max_depth=10, min_samples_split=2, n_features=None):\n",
    "        self.n_trees = n_trees  # số cây để đưa ra quyết định cho giá trị dự đoán\n",
    "        self.max_depth = max_depth  # độ sâu tối đa của mỗi cây\n",
    "        self.min_samples_split = min_samples_split  # số lượng mẫu tối thiểu để chia một nút\n",
    "        self.n_features = n_features  # số lượng đặc trưng được chọn ngẫu nhiên cho mỗi cây\n",
    "        self.trees = []  # danh sách chứa các cây quyết định\n",
    "\n",
    "    def fit(self, X, y):  # X là DataFrame, y là Series\n",
    "        self.trees = []  # tạo list chứa các cây cho dự đoán\n",
    "        for i in range(self.n_trees):\n",
    "            # với mỗi giá trị i, ta tạo một cây quyết định \n",
    "            tree = DecisionTreeClass(min_samples_split=self.min_samples_split, max_depth=self.max_depth, n_features=self.n_features)\n",
    "            X_sample, y_sample = bootstrap(X, y)  # tạo mẫu X và y thay đổi qua mỗi lần lặp (sampling with replacement)\n",
    "            tree.fit(X_sample, y_sample)  # huấn luyện cây trên tập dữ liệu đã được bootstrap\n",
    "            self.trees.append(tree)  # thêm cây vào danh sách các cây\n",
    "\n",
    "    def predict(self, X):  # X là DataFrame\n",
    "        # lấy dự đoán từ từng cây\n",
    "        arr_pred = np.array([tree.predict(X) for tree in self.trees])  # dự đoán từ từng cây\n",
    "        final_pred = []\n",
    "        for i in range(arr_pred.shape[1]): \n",
    "            sample_pred = arr_pred[:, i]  # lấy dự đoán cho từng mẫu từ các cây\n",
    "            final_pred.append(most_value(pd.Series(sample_pred)))  # tính giá trị dự đoán cuối cùng bằng voting\n",
    "        return np.array(final_pred)  # trả về giá trị dự đoán sau khi vote n cây\n"
   ]
  },
  {
   "cell_type": "code",
   "execution_count": null,
   "id": "74d155ee-a81e-4bc4-954d-ffdf7e855c98",
   "metadata": {},
   "outputs": [],
   "source": []
  },
  {
   "cell_type": "code",
   "execution_count": null,
   "id": "a8eb51a6-5ff0-41c0-9e45-d67a49e1cfee",
   "metadata": {},
   "outputs": [],
   "source": []
  }
 ],
 "metadata": {
  "kernelspec": {
   "display_name": "env_github",
   "language": "python",
   "name": "python3"
  },
  "language_info": {
   "codemirror_mode": {
    "name": "ipython",
    "version": 3
   },
   "file_extension": ".py",
   "mimetype": "text/x-python",
   "name": "python",
   "nbconvert_exporter": "python",
   "pygments_lexer": "ipython3",
   "version": "3.12.5"
  }
 },
 "nbformat": 4,
 "nbformat_minor": 5
}
