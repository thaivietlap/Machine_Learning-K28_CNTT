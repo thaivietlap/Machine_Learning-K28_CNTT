{
 "cells": [
  {
   "cell_type": "markdown",
   "id": "534317fc-8171-4d04-8578-2e72a1044c17",
   "metadata": {},
   "source": [
    "Câu 1: Phân phối Bernoulli và Multinomial"
   ]
  },
  {
   "cell_type": "markdown",
   "id": "76d3781c-fd56-42a9-b2b7-9999364c2892",
   "metadata": {},
   "source": [
    "Cho tập dữ liệu Education.csv [https://drive.google.com/file/d/1Gn6YWHXRuPbTUXY5HFxM5C_tJHuZxCka/view?usp=sharing]\n",
    "- Trong đó:\n",
    "    - Text: Chứa đoạn văn bản liên quan đến chủ đề giáo dục.\n",
    "    - Label: Chứa nhãn cảm xúc của văn bản [Tích cực (Positive)/Tiêu cực (Negative)].\n",
    "- Yêu cầu: Áp dụng thuật toán Naive Bayes (phân phối bernoulli và phân phối Multinomial) để dự đoán cảm xúc của văn bản là tích cực hay tiêu cực và so sánh kết quả của hai phân phối đó."
   ]
  },
  {
   "cell_type": "code",
   "execution_count": 1,
   "id": "765f5733",
   "metadata": {},
   "outputs": [],
   "source": [
    "import pandas as pd\n",
    "from sklearn.preprocessing import LabelEncoder\n",
    "from sklearn.feature_extraction.text import CountVectorizer\n",
    "from sklearn.model_selection import train_test_split\n",
    "from sklearn.naive_bayes import BernoulliNB, MultinomialNB\n",
    "from sklearn.metrics import accuracy_score, classification_report"
   ]
  },
  {
   "cell_type": "code",
   "execution_count": 2,
   "id": "ee986834",
   "metadata": {},
   "outputs": [
    {
     "name": "stdout",
     "output_type": "stream",
     "text": [
      "Dữ liệu đầu tiên:\n",
      "                                                Text     Label\n",
      "0  The impact of educational reforms remains unce...  positive\n",
      "1  Critics argue that recent improvements in the ...  negative\n",
      "2  Innovative teaching methods have led to unexpe...  positive\n",
      "3  Despite budget constraints, the school has man...  positive\n",
      "4  The true effectiveness of online learning plat...  negative\n",
      "\n",
      " Dữ liệu sau khi mã hóa nhãn: \n",
      "\n",
      "                                                Text     Label  Label_2\n",
      "0  The impact of educational reforms remains unce...  positive        1\n",
      "1  Critics argue that recent improvements in the ...  negative        0\n",
      "2  Innovative teaching methods have led to unexpe...  positive        1\n",
      "3  Despite budget constraints, the school has man...  positive        1\n",
      "4  The true effectiveness of online learning plat...  negative        0\n"
     ]
    }
   ],
   "source": [
    "dataset = \"Education.csv\"\n",
    "data = pd.read_csv(dataset)\n",
    "# Hiển thị dữ liệu đầu tiên để kiểm tra\n",
    "print(\"Dữ liệu đầu tiên:\")\n",
    "print(data.head())\n",
    "# Sử dụng LabelEncoder để chuyển đổi nhãn từ văn bản thành số\n",
    "label_encoder = LabelEncoder()\n",
    "data['Label_2'] = label_encoder.fit_transform(data['Label'])\n",
    "# In dữ liệu sau khi mã hóa nhãn\n",
    "print(\"\\n Dữ liệu sau khi mã hóa nhãn: \\n\")\n",
    "print(data[['Text', 'Label', 'Label_2']].head())\n",
    "# Sử dụng CountVectorizer để chuyển đổi văn bản thành ma trận đặc trưng\n",
    "vectorizer = CountVectorizer()\n",
    "X = vectorizer.fit_transform(data['Text'])  # Chuyển đổi cột 'Text' thành ma trận số\n",
    "# Cột 'Label_2' là nhãn đã mã hóa (0: Negative, 1: Positive)\n",
    "y = data['Label_2']\n",
    "# Chia dữ liệu thành tập huấn luyện và tập kiểm thử\n",
    "X_train, X_test, y_train, y_test = train_test_split(X, y, test_size=0.2, random_state=42)"
   ]
  },
  {
   "cell_type": "code",
   "execution_count": 3,
   "id": "c2d9eb98",
   "metadata": {},
   "outputs": [
    {
     "name": "stdout",
     "output_type": "stream",
     "text": [
      "\n",
      "Bernoulli Naive Bayes Results:\n",
      "Accuracy: 0.6363636363636364\n",
      "Classification Report:\n",
      "              precision    recall  f1-score   support\n",
      "\n",
      "           0       0.50      1.00      0.67         4\n",
      "           1       1.00      0.43      0.60         7\n",
      "\n",
      "    accuracy                           0.64        11\n",
      "   macro avg       0.75      0.71      0.63        11\n",
      "weighted avg       0.82      0.64      0.62        11\n",
      "\n",
      "\n",
      "Multinomial Naive Bayes Results:\n",
      "Accuracy: 0.7272727272727273\n",
      "Classification Report:\n",
      "              precision    recall  f1-score   support\n",
      "\n",
      "           0       0.57      1.00      0.73         4\n",
      "           1       1.00      0.57      0.73         7\n",
      "\n",
      "    accuracy                           0.73        11\n",
      "   macro avg       0.79      0.79      0.73        11\n",
      "weighted avg       0.84      0.73      0.73        11\n",
      "\n",
      "\n",
      " So sánh kết quả giữa Bernoulli và Multinomial Naive Bayes:\n",
      "Bernoulli Naive Bayes Accuracy: 0.6363636363636364\n",
      "Multinomial Naive Bayes Accuracy: 0.7272727272727273\n"
     ]
    }
   ],
   "source": [
    "# Áp dụng Bernoulli Naive Bayes\n",
    "bernoulli_nb = BernoulliNB()  # Khởi tạo mô hình Bernoulli Naive Bayes\n",
    "bernoulli_nb.fit(X_train, y_train)  # Huấn luyện mô hình\n",
    "y_pred_bernoulli = bernoulli_nb.predict(X_test)  # Dự đoán trên tập kiểm thử\n",
    "# Đánh giá kết quả Bernoulli Naive Bayes\n",
    "print(\"\\nBernoulli Naive Bayes Results:\")\n",
    "print(\"Accuracy:\", accuracy_score(y_test, y_pred_bernoulli))\n",
    "print(\"Classification Report:\")\n",
    "print(classification_report(y_test, y_pred_bernoulli))\n",
    "# Áp dụng Multinomial Naive Bayes\n",
    "multinomial_nb = MultinomialNB()  # Khởi tạo mô hình Multinomial Naive Bayes\n",
    "multinomial_nb.fit(X_train, y_train)  # Huấn luyện mô hình\n",
    "y_pred_multinomial = multinomial_nb.predict(X_test)  # Dự đoán trên tập kiểm thử\n",
    "# Đánh giá kết quả Multinomial Naive Bayes\n",
    "print(\"\\nMultinomial Naive Bayes Results:\")\n",
    "print(\"Accuracy:\", accuracy_score(y_test, y_pred_multinomial))\n",
    "print(\"Classification Report:\")\n",
    "print(classification_report(y_test, y_pred_multinomial))\n",
    "# So sánh tổng quát giữa hai mô hình\n",
    "print(\"\\n So sánh kết quả giữa Bernoulli và Multinomial Naive Bayes:\")\n",
    "print(f\"Bernoulli Naive Bayes Accuracy: {accuracy_score(y_test, y_pred_bernoulli)}\")\n",
    "print(f\"Multinomial Naive Bayes Accuracy: {accuracy_score(y_test, y_pred_multinomial)}\")"
   ]
  },
  {
   "cell_type": "markdown",
   "id": "2ddba7d5-909f-4def-9a45-60bf83f7741c",
   "metadata": {},
   "source": [
    "Câu 2: Phân phối Gaussian"
   ]
  },
  {
   "cell_type": "markdown",
   "id": "83bc9ba8",
   "metadata": {},
   "source": []
  },
  {
   "cell_type": "markdown",
   "id": "acdf8be6-a117-4c6f-9035-4edc4190f185",
   "metadata": {},
   "source": [
    "Cho tập dữ liệu Drug.csv [https://drive.google.com/file/d/1_G8oXkLlsauQkujZzJZJwibAWu5PgBXK/view?usp=sharing]\n",
    "- Trong đó:\n",
    "  - Age: Tuổi của bệnh nhân\n",
    "  - Sex: Giới tính của bệnh nhân\n",
    "  - BP: Mức huyết áp\n",
    "  - Cholesterol: Mức cholesterol trong máu\n",
    "  - Na_to_K: Tỷ lệ Natri và Kali trong máu\n",
    "  - Drug: Loại thuốc [A/B/C/X/Y]\n",
    "- Yêu cầu: Áp dụng thuật toán Naive Bayes (phân phối Gaussian) để dự đoán kết quả loại thuốc phù hợp với bệnh nhân."
   ]
  },
  {
   "cell_type": "code",
   "execution_count": 4,
   "id": "b6e86450",
   "metadata": {},
   "outputs": [],
   "source": [
    "import pandas as pd  \n",
    "from sklearn.model_selection import train_test_split\n",
    "from sklearn.preprocessing import LabelEncoder\n",
    "from sklearn.naive_bayes import GaussianNB\n",
    "from sklearn.metrics import accuracy_score, classification_report"
   ]
  },
  {
   "cell_type": "code",
   "execution_count": 11,
   "id": "3bd8ce91-9d07-4213-aabb-c4696f3fd50d",
   "metadata": {},
   "outputs": [
    {
     "name": "stdout",
     "output_type": "stream",
     "text": [
      "   Age Sex      BP Cholesterol  Na_to_K   Drug\n",
      "0   23   F    HIGH        HIGH   25.355  DrugY\n",
      "1   47   M     LOW        HIGH   13.093  drugC\n",
      "2   47   M     LOW        HIGH   10.114  drugC\n",
      "3   28   F  NORMAL        HIGH    7.798  drugX\n",
      "4   61   F     LOW        HIGH   18.043  DrugY\n",
      "Độ chính xác: 0.90\n",
      "Báo cáo phân loại:\n",
      "              precision    recall  f1-score   support\n",
      "\n",
      "       DrugY       1.00      0.77      0.87        26\n",
      "       drugA       0.88      1.00      0.93         7\n",
      "       drugB       0.50      1.00      0.67         3\n",
      "       drugC       0.75      1.00      0.86         6\n",
      "       drugX       1.00      1.00      1.00        18\n",
      "\n",
      "    accuracy                           0.90        60\n",
      "   macro avg       0.82      0.95      0.87        60\n",
      "weighted avg       0.94      0.90      0.90        60\n",
      "\n"
     ]
    }
   ],
   "source": [
    "try:\n",
    "    drug_data = pd.read_csv(r\"drug200.csv\")\n",
    "    print(drug_data.head())  # Kiểm tra vài dòng dữ liệu đầu tiên\n",
    "except Exception as e:\n",
    "    print(f\"Lỗi khi đọc file CSV:{e}\")\n",
    "    drug_data = None  \n",
    "\n",
    "# Kiểm tra nếu drug_data đã được nạp\n",
    "if drug_data is not None:\n",
    "    # Mã hóa các biến phân loại\n",
    "    label_encoders = {}\n",
    "    for column in ['Sex', 'BP', 'Cholesterol', 'Drug']:\n",
    "        le = LabelEncoder()\n",
    "        drug_data[column] = le.fit_transform(drug_data[column])\n",
    "        label_encoders[column] = le\n",
    "    \n",
    "    # Tách dữ liệu thành các đặc trưng và nhãn mục tiêu\n",
    "    X = drug_data.drop(columns='Drug')\n",
    "    y = drug_data['Drug']\n",
    "    X_train, X_test, y_train, y_test = train_test_split(X, y, test_size=0.3, random_state=42)\n",
    "    \n",
    "    # Khởi tạo mô hình Naive Bayes Gaussian\n",
    "    gnb = GaussianNB()\n",
    "    gnb.fit(X_train, y_train)\n",
    "    y_pred = gnb.predict(X_test)\n",
    "    \n",
    "    # Đánh giá mô hình\n",
    "    accuracy = accuracy_score(y_test, y_pred)\n",
    "    report = classification_report(y_test, y_pred, target_names=label_encoders['Drug'].classes_)\n",
    "    \n",
    "    print(f\"Độ chính xác: {accuracy:.2f}\")\n",
    "    print(f\"Báo cáo phân loại:\\n{report}\")\n",
    "else:\n",
    "    print(\"Không thể tiếp tục vì dữ liệu không được nạp.\")\n",
    "    "
   ]
  }
 ],
 "metadata": {
  "kernelspec": {
   "display_name": "Python 3 (ipykernel)",
   "language": "python",
   "name": "python3"
  },
  "language_info": {
   "codemirror_mode": {
    "name": "ipython",
    "version": 3
   },
   "file_extension": ".py",
   "mimetype": "text/x-python",
   "name": "python",
   "nbconvert_exporter": "python",
   "pygments_lexer": "ipython3",
   "version": "3.12.5"
  }
 },
 "nbformat": 4,
 "nbformat_minor": 5
}
